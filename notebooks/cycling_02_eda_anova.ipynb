{
 "cells": [
  {
   "cell_type": "markdown",
   "id": "0",
   "metadata": {},
   "source": [
    "# 02 — EDA & Two-way ANOVA\n",
    "- visuals for distributions and group differences\n",
    "- ANOVA for Session_Type, Time_of_Day, and interaction"
   ]
  },
  {
   "cell_type": "markdown",
   "id": "1",
   "metadata": {
    "tags": []
   },
   "source": [
    "# 🚴 Cycling Effectiveness Analysis\n",
    "\n",
    "This project explores the question:\n",
    "\n",
    "“Which is more effective: indoor cycling in the mornings or afternoons versus outdoor cycling in the mornings or afternoons?”\n",
    "\n",
    "I use a cycling activity dataset (from Kaggle) containing detailed session logs, including date/time, activity type (indoor vs outdoor), duration, distance, calories burned, heart rate, speed, cadence, power, and training stress score.\n",
    "\n",
    "The goal is to define and measure effectiveness of a cycling session, compare performance across different conditions (indoor/outdoor × morning/afternoon), and build models that can predict workout effectiveness based on session features.\n",
    "\n",
    "\n",
    "\n",
    "### Objectives\n",
    "1. Data Cleaning & Preparation\n",
    " - Parse timestamps into separate date and time columns.\n",
    " - Engineer categorical features for Session Type (Indoor vs Outdoor) and Time of Day (Morning vs Afternoon).\n",
    " - Handle missing values (--) and normalize numeric columns.\n",
    " \n",
    "2. Exploratory Data Analysis (EDA)\n",
    " - Summarize metrics (calories per minute, average HR, speed) across categories.•Visualize distributions with boxplots/violin plots.\n",
    " - Test for statistical significance (two-way ANOVA).\n",
    " \n",
    "3. Effectiveness Definition\n",
    " - Primary: Calories per minute (caloric efficiency).\n",
    " - Alternative: Power per minute or Training Stress Score per minute.\n",
    " \n",
    "4. Machine Learning Modeling\n",
    " - Regression (TensorFlow): Predict calories per minute from ride metrics.\n",
    " - Classification (TensorFlow): Predict whether a ride will be “high effectiveness” vs “low effectiveness.”\n",
    " \n",
    "5. Insights & Conclusions\n",
    " - Identify which combination (indoor/outdoor × morning/afternoon) yields the most effective workouts.\n",
    " - Evaluate whether time of day or ride type is a stronger predictor of effectiveness.\n",
    " - Provide evidence-based recommendations for training optimization.\n",
    "\n",
    "\n",
    "Tools & Libraries\n",
    " - Data Wrangling: pandas, numpy\n",
    " - Visualization: matplotlib, seaborn\n",
    " - Statistics: scipy, statsmodels (ANOVA)\n",
    " - Machine Learning: scikit-learn (utilities), TensorFlow/Keras (models)\n",
    " - Notebook Environment: JupyterLab\n",
    "\n",
    "✨ Expected Outcome:\n",
    "This project delivers both descriptive insights (e.g., “Outdoor morning rides burn more calories per minute than indoor afternoons”) and predictive models that help forecast session effectiveness under different conditions.\n"
   ]
  },
  {
   "cell_type": "code",
   "execution_count": null,
   "id": "2",
   "metadata": {},
   "outputs": [],
   "source": [
    "import pandas as pd\n",
    "import numpy as np\n",
    "import matplotlib.pyplot as plt\n",
    "import seaborn as sns\n",
    "\n",
    "from scipy import stats\n",
    "import statsmodels.api as sm\n",
    "import statsmodels.formula.api as smf\n",
    "\n",
    "from sklearn.model_selection import train_test_split\n",
    "from sklearn.preprocessing import StandardScaler\n",
    "from sklearn.metrics import mean_absolute_error, r2_score, classification_report\n",
    "from sklearn.utils import shuffle\n",
    "\n",
    "import tensorflow as tf\n",
    "from tensorflow import keras\n",
    "from tensorflow.keras import layers\n",
    "\n",
    "df = pd.read_csv(\"/Users/amlim/cycling-effectiveness/data/cleaned_cycling.csv\")\n"
   ]
  },
  {
   "cell_type": "markdown",
   "id": "3",
   "metadata": {
    "tags": []
   },
   "source": [
    "## Visualization"
   ]
  },
  {
   "cell_type": "code",
   "execution_count": null,
   "id": "4",
   "metadata": {},
   "outputs": [],
   "source": [
    "df = df.rename(columns={\n",
    "    \"Training Stress Score\": \"Training_Stress_Score\",\n",
    "    \"Session Type\": \"Session_Type\",\n",
    "    \"Time of Day\": \"Time_of_Day\"\n",
    "})\n",
    "# focusing on columns: Session Type, Time of Day, Calories, Distance, Training Stress Score\n",
    "sns.set(style=\"whitegrid\", palette=\"muted\", font_scale=1.2)\n",
    "\n",
    "sns.boxplot(data=df, x=\"Time_of_Day\", y=\"Calories\", hue=\"Session_Type\")\n",
    "plt.title(\"Calories by Session Type and Time of Day\")\n",
    "plt.show()"
   ]
  },
  {
   "cell_type": "code",
   "execution_count": null,
   "id": "5",
   "metadata": {},
   "outputs": [],
   "source": [
    "sns.boxplot(data=df, x=\"Time_of_Day\", y=\"Training_Stress_Score\", hue=\"Session_Type\")\n",
    "plt.title(\"Training Stress Score by Session Type and Time of Day\")\n",
    "plt.show()"
   ]
  },
  {
   "cell_type": "code",
   "execution_count": null,
   "id": "6",
   "metadata": {},
   "outputs": [],
   "source": [
    "sns.violinplot(data=df, x=\"Time_of_Day\", y=\"Calories\", hue=\"Session_Type\", split=True)\n",
    "plt.title(\"Calories Distribution by Session Type & Time of Day\")\n",
    "plt.show()"
   ]
  },
  {
   "cell_type": "code",
   "execution_count": null,
   "id": "7",
   "metadata": {},
   "outputs": [],
   "source": [
    "sns.scatterplot(data=df, x=\"Distance\", y=\"Calories\", hue=\"Session_Type\", style=\"Time_of_Day\")\n",
    "plt.title(\"Calories vs. Distance by Session Type & Time of Day\")\n",
    "plt.show()\n",
    "\n",
    "sns.pairplot(df, vars=[\"Calories\", \"Distance\", \"Training_Stress_Score\"], hue=\"Session_Type\")\n",
    "plt.show()"
   ]
  },
  {
   "cell_type": "code",
   "execution_count": null,
   "id": "8",
   "metadata": {},
   "outputs": [],
   "source": [
    "df.groupby([\"Session_Type\",\"Time_of_Day\"])[[\"Calories\",\"Training_Stress_Score\"]].mean()"
   ]
  },
  {
   "cell_type": "code",
   "execution_count": null,
   "id": "9",
   "metadata": {},
   "outputs": [],
   "source": [
    "\n",
    "model_cal = smf.ols(\"Calories ~ C(Session_Type) * C(Time_of_Day)\", data=df).fit()\n",
    "anova_cal = sm.stats.anova_lm(model_cal, typ=2)\n",
    "print(\"ANOVA for Calories\\n\", anova_cal)\n",
    "\n"
   ]
  },
  {
   "cell_type": "markdown",
   "id": "10",
   "metadata": {},
   "source": [
    "Session Type is not significant (p=0.14). Calories burned doesn't differ much just by being indoors or outdoors.\n",
    "\n",
    "Time of Day is high significant (p<0.001). Calories burned does vary across Morning, Afternoon, Evening.\n",
    "\n",
    "Interaction is not significant. Session Type and Time of Day don't combine in a meaningful way."
   ]
  },
  {
   "cell_type": "code",
   "execution_count": null,
   "id": "11",
   "metadata": {},
   "outputs": [],
   "source": [
    "model_tss = smf.ols(\"Training_Stress_Score ~ C(Session_Type) * C(Time_of_Day)\", data=df).fit()\n",
    "anova_tss = sm.stats.anova_lm(model_tss, typ=2)\n",
    "print(\"ANOVA for TSS\\n\", anova_tss)"
   ]
  },
  {
   "cell_type": "markdown",
   "id": "12",
   "metadata": {},
   "source": [
    "Session Type not significant. TSS doesn't differ by indoor vs. outdoor.\n",
    "\n",
    "Time of Day is highly significant.\n",
    "\n",
    "Interaction is not significant."
   ]
  },
  {
   "cell_type": "code",
   "execution_count": null,
   "id": "13",
   "metadata": {},
   "outputs": [],
   "source": []
  }
 ],
 "metadata": {
  "kernelspec": {
   "display_name": "Python (cycling)",
   "language": "python",
   "name": "cycling"
  },
  "language_info": {
   "codemirror_mode": {
    "name": "ipython",
    "version": 3
   },
   "file_extension": ".py",
   "mimetype": "text/x-python",
   "name": "python",
   "nbconvert_exporter": "python",
   "pygments_lexer": "ipython3",
   "version": "3.10.18"
  }
 },
 "nbformat": 4,
 "nbformat_minor": 5
}
