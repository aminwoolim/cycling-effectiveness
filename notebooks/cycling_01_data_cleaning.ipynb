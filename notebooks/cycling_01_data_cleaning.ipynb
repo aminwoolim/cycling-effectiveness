{
 "cells": [
  {
   "cell_type": "markdown",
   "id": "0",
   "metadata": {},
   "source": [
    "# 01 — Data Cleaning & Feature Engineering\n",
    "- load raw data\n",
    "- fix columns and types\n",
    "- engineer Session_Type, Time_of_Day, per-minute metrics\n",
    "- save cleaned dataset"
   ]
  },
  {
   "cell_type": "code",
   "execution_count": null,
   "id": "1",
   "metadata": {},
   "outputs": [],
   "source": [
    "import pandas as pd\n",
    "import numpy as np\n",
    "import matplotlib.pyplot as plt\n",
    "import seaborn as sns\n",
    "\n",
    "from scipy import stats\n",
    "import statsmodels.api as sm\n",
    "import statsmodels.formula.api as smf\n",
    "\n",
    "from sklearn.model_selection import train_test_split\n",
    "from sklearn.preprocessing import StandardScaler\n",
    "from sklearn.metrics import mean_absolute_error, r2_score, classification_report\n",
    "from sklearn.utils import shuffle\n",
    "\n",
    "import tensorflow as tf\n",
    "from tensorflow import keras\n",
    "from tensorflow.keras import layers\n",
    "\n",
    "df = pd.read_csv(\"Data Cycling.csv\")\n"
   ]
  },
  {
   "cell_type": "markdown",
   "id": "2",
   "metadata": {
    "jp-MarkdownHeadingCollapsed": true,
    "tags": []
   },
   "source": [
    "## Data Cleaning"
   ]
  },
  {
   "cell_type": "code",
   "execution_count": null,
   "id": "3",
   "metadata": {},
   "outputs": [],
   "source": [
    "df.head(20)"
   ]
  },
  {
   "cell_type": "code",
   "execution_count": null,
   "id": "4",
   "metadata": {},
   "outputs": [],
   "source": [
    "df.rename(columns={\"Time\": \"Duration\"}, inplace=True)"
   ]
  },
  {
   "cell_type": "code",
   "execution_count": null,
   "id": "5",
   "metadata": {},
   "outputs": [],
   "source": [
    "parts = df[\"Date\"].astype(str).str.split(r\"\\s+\", n=1, expand=True)\n",
    "df[\"Date\"] = parts[0]                      # short date\n",
    "df[\"Time\"] = np.where(parts.shape[1] > 1, parts[1], np.nan)  # time if present"
   ]
  },
  {
   "cell_type": "code",
   "execution_count": null,
   "id": "6",
   "metadata": {},
   "outputs": [],
   "source": [
    "def clean_numeric_column(df, cols):\n",
    "    \"\"\"\n",
    "    Cleans numeric columns in a DataFrame:\n",
    "    - Removes commas\n",
    "    - Replaces '--' with NaN\n",
    "    - Converts to float\n",
    "    \"\"\"\n",
    "    if isinstance(cols, str):\n",
    "        cols = [cols]   # allow single column name\n",
    "    \n",
    "    for col in cols:\n",
    "        df[col] = (\n",
    "            df[col].astype(str)                # ensure string\n",
    "                  .str.replace(\",\", \"\", regex=False)  # remove commas\n",
    "                  .replace(\"--\", np.nan)       # replace placeholder\n",
    "                  .replace(\"nan\", np.nan)      # just in case\n",
    "                  .astype(float)               # convert to float\n",
    "        )\n",
    "    return df"
   ]
  },
  {
   "cell_type": "code",
   "execution_count": null,
   "id": "7",
   "metadata": {},
   "outputs": [],
   "source": [
    "df = clean_numeric_column(df, [\"Calories\", \"Avg HR\", \"Avg Speed\"])"
   ]
  },
  {
   "cell_type": "code",
   "execution_count": null,
   "id": "8",
   "metadata": {},
   "outputs": [],
   "source": [
    "# need to define which activity is strictly indoors or outdoors (create new columns \"indoors\" and \"outdoors\"\n",
    "\n",
    "def classify_session(activity):\n",
    "    if activity in [\"indoor_cycling\", \"virtual_ride\"]:\n",
    "        return \"Indoors\"\n",
    "    else:\n",
    "        return \"Outdoors\"\n",
    "\n",
    "df[\"Session Type\"] = df[\"Activity Type\"].apply(classify_session)"
   ]
  },
  {
   "cell_type": "code",
   "execution_count": null,
   "id": "9",
   "metadata": {},
   "outputs": [],
   "source": [
    "def classify_time(timestamp):\n",
    "    t = pd.to_datetime(timestamp, errors=\"coerce\").time()\n",
    "    \n",
    "    if t is None:\n",
    "        return np.nan\n",
    "    \n",
    "    hour = t.hour\n",
    "    \n",
    "    if hour < 12:\n",
    "        return \"Morning\"\n",
    "    elif 12 <= hour < 18:\n",
    "        return \"Afternoon\"\n",
    "    else:\n",
    "        return \"Evening\"\n",
    "    \n",
    "df[\"Time of Day\"] = df[\"Time\"].apply(classify_time)\n",
    "    \n",
    "        "
   ]
  },
  {
   "cell_type": "code",
   "execution_count": null,
   "id": "10",
   "metadata": {},
   "outputs": [],
   "source": [
    "df.rename(columns={\"Training Stress Score®\": \"Training Stress Score\"}, inplace=True)"
   ]
  },
  {
   "cell_type": "code",
   "execution_count": null,
   "id": "11",
   "metadata": {},
   "outputs": [],
   "source": [
    "df.head(10)\n",
    "df_clean = df.copy()\n",
    "df_clean.to_csv(\"/Users/amlim/cycling-effectiveness/data/cleaned_cycling.csv\", index=False)"
   ]
  },
  {
   "cell_type": "code",
   "execution_count": null,
   "id": "12",
   "metadata": {},
   "outputs": [],
   "source": [
    "df = df.rename(columns={\n",
    "    \"Training Stress Score\": \"Training_Stress_Score\",\n",
    "    \"Session Type\": \"Session_Type\",\n",
    "    \"Time of Day\": \"Time_of_Day\"\n",
    "})\n",
    "# focusing on columns: Session Type, Time of Day, Calories, Distance, Training Stress Score\n",
    "sns.set(style=\"whitegrid\", palette=\"muted\", font_scale=1.2)\n",
    "\n",
    "sns.boxplot(data=df, x=\"Time_of_Day\", y=\"Calories\", hue=\"Session_Type\")\n",
    "plt.title(\"Calories by Session Type and Time of Day\")\n",
    "plt.show()"
   ]
  },
  {
   "cell_type": "code",
   "execution_count": null,
   "id": "13",
   "metadata": {},
   "outputs": [],
   "source": [
    "sns.boxplot(data=df, x=\"Time_of_Day\", y=\"Training_Stress_Score\", hue=\"Session_Type\")\n",
    "plt.title(\"Training Stress Score by Session Type and Time of Day\")\n",
    "plt.show()"
   ]
  },
  {
   "cell_type": "code",
   "execution_count": null,
   "id": "14",
   "metadata": {},
   "outputs": [],
   "source": [
    "sns.violinplot(data=df, x=\"Time_of_Day\", y=\"Calories\", hue=\"Session_Type\", split=True)\n",
    "plt.title(\"Calories Distribution by Session Type & Time of Day\")\n",
    "plt.show()"
   ]
  },
  {
   "cell_type": "code",
   "execution_count": null,
   "id": "15",
   "metadata": {},
   "outputs": [],
   "source": [
    "sns.scatterplot(data=df, x=\"Distance\", y=\"Calories\", hue=\"Session_Type\", style=\"Time_of_Day\")\n",
    "plt.title(\"Calories vs. Distance by Session Type & Time of Day\")\n",
    "plt.show()\n",
    "\n",
    "sns.pairplot(df, vars=[\"Calories\", \"Distance\", \"Training_Stress_Score\"], hue=\"Session_Type\")\n",
    "plt.show()"
   ]
  },
  {
   "cell_type": "code",
   "execution_count": null,
   "id": "16",
   "metadata": {},
   "outputs": [],
   "source": [
    "df.groupby([\"Session_Type\",\"Time_of_Day\"])[[\"Calories\",\"Training_Stress_Score\"]].mean()"
   ]
  },
  {
   "cell_type": "code",
   "execution_count": null,
   "id": "17",
   "metadata": {},
   "outputs": [],
   "source": [
    "\n",
    "model_cal = smf.ols(\"Calories ~ C(Session_Type) * C(Time_of_Day)\", data=df).fit()\n",
    "anova_cal = sm.stats.anova_lm(model_cal, typ=2)\n",
    "print(\"ANOVA for Calories\\n\", anova_cal)\n",
    "\n"
   ]
  },
  {
   "cell_type": "markdown",
   "id": "18",
   "metadata": {},
   "source": [
    "Session Type is not significant (p=0.14). Calories burned doesn't differ much just by being indoors or outdoors.\n",
    "\n",
    "Time of Day is high significant (p<0.001). Calories burned does vary across Morning, Afternoon, Evening.\n",
    "\n",
    "Interaction is not significant. Session Type and Time of Day don't combine in a meaningful way."
   ]
  },
  {
   "cell_type": "code",
   "execution_count": null,
   "id": "19",
   "metadata": {},
   "outputs": [],
   "source": [
    "model_tss = smf.ols(\"Training_Stress_Score ~ C(Session_Type) * C(Time_of_Day)\", data=df).fit()\n",
    "anova_tss = sm.stats.anova_lm(model_tss, typ=2)\n",
    "print(\"ANOVA for TSS\\n\", anova_tss)"
   ]
  },
  {
   "cell_type": "markdown",
   "id": "20",
   "metadata": {},
   "source": [
    "Session Type not significant. TSS doesn't differ by indoor vs. outdoor.\n",
    "\n",
    "Time of Day is highly significant.\n",
    "\n",
    "Interaction is not significant."
   ]
  },
  {
   "cell_type": "code",
   "execution_count": null,
   "id": "21",
   "metadata": {},
   "outputs": [],
   "source": [
    "def parse_duration(val):\n",
    "    try:\n",
    "        parts = val.split(\":\")\n",
    "        if len(parts) == 2:\n",
    "            val = \"00:\" + val\n",
    "        return pd.to_timedelta(val).total_seconds() / 60\n",
    "    except:\n",
    "        return None\n",
    "\n",
    "df[\"Duration_min\"] = df[\"Duration\"].astype(str).apply(parse_duration)\n",
    "\n",
    "df = df.dropna(subset=[\"Duration_min\"])"
   ]
  },
  {
   "cell_type": "code",
   "execution_count": null,
   "id": "22",
   "metadata": {},
   "outputs": [],
   "source": [
    "df[\"Calories_per_min\"] = df[\"Calories\"] / df[\"Duration_min\"]\n",
    "df[\"TSS_per_min\"] = df[\"Training_Stress_Score\"] / df[\"Duration_min\"]"
   ]
  },
  {
   "cell_type": "code",
   "execution_count": null,
   "id": "23",
   "metadata": {},
   "outputs": [],
   "source": [
    "thr = df[\"Calories_per_min\"].quantile(0.75)\n",
    "df[\"High_Effectiveness\"] = (df[\"Calories_per_min\"] >= thr).astype(int)\n",
    "df_ml = pd.get_dummies(df, columns=[\"Session_Type\", \"Time_of_Day\"], drop_first=True)"
   ]
  },
  {
   "cell_type": "code",
   "execution_count": null,
   "id": "24",
   "metadata": {},
   "outputs": [],
   "source": [
    "import numpy as np\n",
    "import pandas as pd\n",
    "from sklearn.model_selection import train_test_split\n",
    "from sklearn.preprocessing import StandardScaler\n",
    "\n",
    "# Numeric features that exist in YOUR df_ml\n",
    "num_feats = [\n",
    "    \"Duration_min\", \"Distance\", \"Avg HR\", \"Avg Speed\",\n",
    "    \"Avg Bike Cadence\", \"Max HR\", \"Max Speed\",\n",
    "    # optional power-related if populated:\n",
    "    \"Power\", \"Max Power\", \"Max Avg Power (20 min)\",\n",
    "    # elevation if outdoor rides have them:\n",
    "    \"Elev Gain\", \"Elev Loss\",\n",
    "    # if present and meaningful:\n",
    "    \"Training_Stress_Score\"\n",
    "]\n",
    "\n",
    "# Use only those that actually exist (and are not entirely missing)\n",
    "num_feats = [c for c in num_feats if c in df_ml.columns]\n",
    "\n",
    "# Categorical dummies you already created (Afternoon is implicitly the baseline)\n",
    "cat_feats = [c for c in [\"Session_Type_Outdoors\", \"Time_of_Day_Morning\", \"Time_of_Day_Evening\"] if c in df_ml.columns]\n",
    "\n",
    "X_cols = num_feats + cat_feats\n",
    "print(\"Using features:\", X_cols)\n",
    "\n",
    "# Targets (you already created these)\n",
    "y_reg = df_ml[\"Calories_per_min\"]\n",
    "y_clf = df_ml[\"High_Effectiveness\"]\n",
    "\n",
    "# Assemble X and ensure numeric dtype\n",
    "X = df_ml[X_cols].apply(pd.to_numeric, errors=\"coerce\")\n",
    "\n",
    "# Drop rows with any NaNs in features or targets\n",
    "mask = X.notna().all(axis=1) & y_reg.notna() & y_clf.notna()\n",
    "X = X.loc[mask]\n",
    "y_reg = y_reg.loc[mask]\n",
    "y_clf = y_clf.loc[mask]\n",
    "\n",
    "# Train/test split (regression)\n",
    "X_train, X_test, y_train_reg, y_test_reg = train_test_split(\n",
    "    X, y_reg, test_size=0.2, random_state=42\n",
    ")\n",
    "\n",
    "# Train/test split (classification) — stratify for balanced classes\n",
    "X_train_c, X_test_c, y_train_clf, y_test_clf = train_test_split(\n",
    "    X, y_clf, test_size=0.2, random_state=42, stratify=y_clf\n",
    ")\n",
    "\n",
    "# Scale features (fit on train, apply to test)\n",
    "scaler_reg = StandardScaler()\n",
    "X_train_s = scaler_reg.fit_transform(X_train)\n",
    "X_test_s  = scaler_reg.transform(X_test)\n",
    "\n",
    "scaler_clf = StandardScaler()\n",
    "X_train_c_s = scaler_clf.fit_transform(X_train_c)\n",
    "X_test_c_s  = scaler_clf.transform(X_test_c)"
   ]
  },
  {
   "cell_type": "code",
   "execution_count": null,
   "id": "25",
   "metadata": {},
   "outputs": [],
   "source": [
    "import tensorflow as tf\n",
    "from tensorflow.keras import Sequential\n",
    "from tensorflow.keras.layers import Dense\n",
    "\n",
    "tf.keras.utils.set_random_seed(42)\n",
    "\n",
    "model_reg = Sequential([\n",
    "    Dense(64, activation=\"relu\", input_shape=(X_train_s.shape[1],)),\n",
    "    Dense(32, activation=\"relu\"),\n",
    "    Dense(1)\n",
    "])\n",
    "\n",
    "model_reg.compile(optimizer=\"adam\", loss=\"mse\", metrics=[\"mae\"])\n",
    "hist_reg = model_reg.fit(X_train_s, y_train_reg, validation_split=0.2, epochs=100, batch_size=16, verbose=0)\n",
    "\n",
    "# Evaluate\n",
    "from sklearn.metrics import mean_absolute_error, r2_score\n",
    "y_pred_reg = model_reg.predict(X_test_s).ravel()\n",
    "print(\"Regression — MAE:\", mean_absolute_error(y_test_reg, y_pred_reg))\n",
    "print(\"Regression — R^2:\", r2_score(y_test_reg, y_pred_reg))"
   ]
  },
  {
   "cell_type": "code",
   "execution_count": null,
   "id": "26",
   "metadata": {},
   "outputs": [],
   "source": [
    "from sklearn.metrics import classification_report, confusion_matrix, roc_auc_score\n",
    "\n",
    "tf.keras.utils.set_random_seed(42)\n",
    "\n",
    "model_clf = Sequential([\n",
    "    Dense(64, activation=\"relu\", input_shape=(X_train_c_s.shape[1],)),\n",
    "    Dense(32, activation=\"relu\"),\n",
    "    Dense(1, activation=\"sigmoid\")\n",
    "])\n",
    "model_clf.compile(optimizer=\"adam\", loss=\"binary_crossentropy\", metrics=[\"accuracy\"])\n",
    "hist_clf = model_clf.fit(X_train_c_s, y_train_clf, validation_split=0.2, epochs=60, batch_size=16, verbose=0)\n",
    "\n",
    "y_prob = model_clf.predict(X_test_c_s).ravel()\n",
    "y_pred = (y_prob >= 0.5).astype(int)\n",
    "\n",
    "print(classification_report(y_test_clf, y_pred))\n",
    "print(\"Confusion matrix:\\n\", confusion_matrix(y_test_clf, y_pred))\n",
    "print(\"ROC AUC:\", roc_auc_score(y_test_clf, y_prob))"
   ]
  },
  {
   "cell_type": "code",
   "execution_count": null,
   "id": "27",
   "metadata": {},
   "outputs": [],
   "source": [
    "import numpy as np\n",
    "y_pred_baseline = np.full_like(y_test_reg, y_train_reg.mean(), dtype=float)\n",
    "from sklearn.metrics import r2_score, mean_absolute_error\n",
    "print(\"Baseline MAE:\", mean_absolute_error(y_test_reg, y_pred_baseline))\n",
    "print(\"Baseline R²:\", r2_score(y_test_reg, y_pred_baseline))"
   ]
  },
  {
   "cell_type": "code",
   "execution_count": null,
   "id": "28",
   "metadata": {},
   "outputs": [],
   "source": [
    "import matplotlib.pyplot as plt\n",
    "plt.scatter(y_test_reg, y_test_reg - y_pred_reg, s=12)\n",
    "plt.axhline(0, ls=\"--\"); plt.xlabel(\"Actual\"); plt.ylabel(\"Residuals\"); plt.title(\"Residuals vs Actual\")\n",
    "plt.show()"
   ]
  },
  {
   "cell_type": "code",
   "execution_count": null,
   "id": "29",
   "metadata": {},
   "outputs": [],
   "source": []
  }
 ],
 "metadata": {
  "kernelspec": {
   "display_name": "Python (cycling)",
   "language": "python",
   "name": "cycling"
  },
  "language_info": {
   "codemirror_mode": {
    "name": "ipython",
    "version": 3
   },
   "file_extension": ".py",
   "mimetype": "text/x-python",
   "name": "python",
   "nbconvert_exporter": "python",
   "pygments_lexer": "ipython3",
   "version": "3.10.18"
  }
 },
 "nbformat": 4,
 "nbformat_minor": 5
}
